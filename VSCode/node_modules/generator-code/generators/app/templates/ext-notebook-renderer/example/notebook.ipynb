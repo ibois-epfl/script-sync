{
  "cells": [
    {
      "cell_type": "markdown",
      "source": [
        "# Your Custom Renderer"
      ],
      "metadata": {}
    },
    {
      "cell_type": "markdown",
      "source": [
        "This is a Jupyter notebook file. Down below, we've created output as if a cell was executed and generated `<%- rendererMimeTypes[0] %>` output. You can use the **View: Reopen Editor With...** command to view the JSON source of this notebook and change the output data. Or, you can installed the Python extension (for example) and replace the code cell below with one that generates the output you expect"
      ],
      "metadata": {}
    },
    {
      "cell_type": "code",
      "execution_count": 1,
      "metadata": {},
      "source": [
        "# <code that creates <%- rendererMimeTypes[0] %> output>"
      ],
      "outputs": [
        {
          "output_type": "execute_result",
          "data": {
            "<%- rendererMimeTypes[0] %>": "{\"hello\":\"world!\"}"
          },
          "metadata": {},
          "execution_count": 1
        }
      ]
    }
  ]
}
